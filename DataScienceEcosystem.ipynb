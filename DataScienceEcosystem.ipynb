{
 "cells": [
  {
   "cell_type": "markdown",
   "id": "cafd5e9f-08b4-4c2c-a867-012bbb3f4d09",
   "metadata": {},
   "source": [
    "# Data Science Tools and Ecosystem"
   ]
  },
  {
   "cell_type": "markdown",
   "id": "783bc676-3a05-4669-9eac-c18773821944",
   "metadata": {},
   "source": [
    "In this notebook, Data Science Tools and Ecosystem are summarized."
   ]
  },
  {
   "cell_type": "markdown",
   "id": "bdb81793-34f7-414f-b4a8-d0f8a1082879",
   "metadata": {},
   "source": [
    "**Objectives:**\n",
    " - List some of the popular languages that are used by data scientists.\n",
    " - List some of the commonly used libraries that are used by data scientists.\n",
    " - List open source development environments that are used in data science.\n",
    " - Show a few examples showing the output of arithmetic expressions in Python."
   ]
  },
  {
   "cell_type": "markdown",
   "id": "27e81640-7c62-4ac3-b125-7c435d5a9a92",
   "metadata": {},
   "source": [
    "Some of the popular languages that Data Scientists use are:\n",
    "1. Python\n",
    "2. R\n",
    "3. SQL\n",
    "4. Java\n",
    "5. C++"
   ]
  },
  {
   "cell_type": "markdown",
   "id": "3a39cee5-e456-4a98-9475-98efac364b2a",
   "metadata": {},
   "source": [
    "Some of the commonly used libraries used by Data Scientists include:\n",
    "1. Scientific Computing Libraries (E.g., Pandas, NumPy)\n",
    "2. Visualization Libraries (E.g., Matplotlib, Seaborn, Vegas, ggplot2)\n",
    "3. Machine Learning (E.g., Scikit-learn, Keras)\n",
    "4. Deep Learning (E.g., TensorFlow, Pytorch, Big DL)\n"
   ]
  },
  {
   "cell_type": "markdown",
   "id": "32df6d2b-27cf-461c-ba89-eef5b591bff9",
   "metadata": {},
   "source": [
    "| Data Science Tools |\n",
    "|--------------------|\n",
    "| Jupyter Notebooks  |\n",
    "| Jupyter Lab        |\n",
    "| Apache Zeppelin    |\n",
    "| RStudio            |\n",
    "| Spyder             |"
   ]
  },
  {
   "cell_type": "markdown",
   "id": "0e9dcfa5-4615-45fe-9fe7-d249f9cb7262",
   "metadata": {},
   "source": [
    "### Below are a few examples of evaluating arithmetic expressions in Python.\n"
   ]
  },
  {
   "cell_type": "code",
   "execution_count": 19,
   "id": "920c1de6-6d3a-4cc7-acfe-80b4165fad9f",
   "metadata": {},
   "outputs": [
    {
     "data": {
      "text/plain": [
       "17"
      ]
     },
     "execution_count": 19,
     "metadata": {},
     "output_type": "execute_result"
    }
   ],
   "source": [
    "# This a simple arithmetic expression to mutiply then add integers\n",
    "(3*4)+5"
   ]
  },
  {
   "cell_type": "code",
   "execution_count": 21,
   "id": "3f2d6516-dcfc-4119-b49c-a02504ae1b51",
   "metadata": {},
   "outputs": [
    {
     "data": {
      "text/plain": [
       "3.3333333333333335"
      ]
     },
     "execution_count": 21,
     "metadata": {},
     "output_type": "execute_result"
    }
   ],
   "source": [
    "# This will convert 200 minutes to hours by diving by 60\n",
    "200/60"
   ]
  },
  {
   "cell_type": "markdown",
   "id": "60fcf164-b3f7-46f2-ad89-bdab532f919f",
   "metadata": {},
   "source": [
    "## Author\n",
    "Siddharth Gupta"
   ]
  }
 ],
 "metadata": {
  "kernelspec": {
   "display_name": "Python 3 (ipykernel)",
   "language": "python",
   "name": "python3"
  },
  "language_info": {
   "codemirror_mode": {
    "name": "ipython",
    "version": 3
   },
   "file_extension": ".py",
   "mimetype": "text/x-python",
   "name": "python",
   "nbconvert_exporter": "python",
   "pygments_lexer": "ipython3",
   "version": "3.12.4"
  }
 },
 "nbformat": 4,
 "nbformat_minor": 5
}
